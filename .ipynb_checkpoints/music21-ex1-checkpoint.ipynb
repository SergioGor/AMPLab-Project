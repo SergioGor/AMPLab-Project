{
 "cells": [
  {
   "cell_type": "markdown",
   "metadata": {},
   "source": [
    "##  music21 exercise 1\n",
    "Q. **Are there melodic changes between the three renditions in the performance of an Arab-Andalusian _mīzān_, namely _muassa‘_, _mahzūz_ and _inṣirāf_?**\n",
    "\n",
    "M. *Plot a bar chart with the number of intervals in each of these three sections, taken from the four scores segmented in the annotations csv file.*"
   ]
  },
  {
   "cell_type": "code",
   "execution_count": 1,
   "metadata": {},
   "outputs": [],
   "source": [
    "from music21 import *\n",
    "import os\n",
    "import numpy as np\n",
    "import matplotlib.pyplot as plt"
   ]
  },
  {
   "cell_type": "markdown",
   "metadata": {},
   "source": [
    "First, create a dictionary from the annotations csv file with starting and ending offset of the segments that should be analysed. The keys of this dictionary are the first two letters of each section, namely `mu` for _muassa‘_, `ma` for _mahzūz_ and `in` for _inṣirāf_. The value of these keys will be another dictionary, where the keys are the mbid of the score that contatins any of these sections, and the values are lists containing the starting and ending offset of the corresponding section in that score.\n",
    "\n",
    "In order to extract this information, is important to carefully study and understand the annotations csv file. The interesting information is located in the first column for the mbid (the name of each score is precisely this mbdi), the second column for the section label, and columns 5 and 6 for the starting and ending offset of each section. The csv file offers annotations per each section of lyrics lines, but for this exercise the relevant information is the tempo section, which is indicated with the first to letters of the labels in the second column. Therefore, to see when a tempo section changes, look for a change of these two initial letters, and take the starting offset of this row as the start of the tempo section and the ending offset of the previous row as the end of the previous tempo section."
   ]
  },
  {
   "cell_type": "code",
   "execution_count": 20,
   "metadata": {},
   "outputs": [
    {
     "name": "stdout",
     "output_type": "stream",
     "text": [
      "mu\n",
      "  a451a7fc-c53f-462a-b3fc-4377bb588105 : ['214.0', '1764.5']\n",
      "  8842c1f0-e261-4069-bd59-768bb9a3315c : ['261.0', '1646.5']\n",
      "  f7bcb9af-6abb-4192-ae3d-37fa811034ce : ['291.0', '1643.5']\n",
      "  b11237b9-d45b-4b3a-a97b-ab7d198f927f : ['291.0', '1177.5']\n",
      "ma\n",
      "  a451a7fc-c53f-462a-b3fc-4377bb588105 : ['1775.5', '2140.5']\n",
      "  f7bcb9af-6abb-4192-ae3d-37fa811034ce : ['1712.5', '2033.75']\n",
      "  b11237b9-d45b-4b3a-a97b-ab7d198f927f : ['1179.5', '1676.5']\n",
      "in\n",
      "  a451a7fc-c53f-462a-b3fc-4377bb588105 : ['2155.5', '3338.5']\n",
      "  8842c1f0-e261-4069-bd59-768bb9a3315c : ['1652.5', '2843.5']\n",
      "  f7bcb9af-6abb-4192-ae3d-37fa811034ce : ['2041.75', '4525.75']\n",
      "  b11237b9-d45b-4b3a-a97b-ab7d198f927f : ['1678.75', '3278.75']\n"
     ]
    }
   ],
   "source": [
    "csvFile = 'arab_andalusian_lines.csv'\n",
    "\n",
    "with open(csvFile, 'r', encoding='utf-8') as f:\n",
    "    data = f.readlines()\n",
    "\n",
    "sections = {'mu': {}, 'ma': {}, 'in': {}}\n",
    "\n",
    "currentSection = '' # To keep track of changes of tempo sections\n",
    "\n",
    "for i in range(1, len(data)):\n",
    "    # Information from the current row\n",
    "    mbid = data[i].split(',')[0]\n",
    "    section = data[i].split(',')[1][:2]\n",
    "    start = data[i].split(',')[5]\n",
    "    # Information from the previous row\n",
    "    previousMbid = data[i-1].split(',')[0]\n",
    "    previousSection = data[i-1].split(',')[1][:2]\n",
    "    previousEnd = data[i-1].split(',')[6]\n",
    "    # Check if there is a change in the tempo section\n",
    "    if currentSection != section:\n",
    "        currentSection = section\n",
    "        sections[currentSection][mbid] = [start]\n",
    "        if i > 1:\n",
    "            sections[previousSection][previousMbid].append(previousEnd)\n",
    "\n",
    "# Add the ending offset of the last tempo section from the last row\n",
    "mbid = data[-1].split(',')[0]\n",
    "section = data[-1].split(',')[1][:2]\n",
    "end = data[-1].split(',')[6]\n",
    "sections['in'][mbid].append(end)\n",
    "\n",
    "# Print the dictionary to verify the completeness of the results\n",
    "for section in sections:\n",
    "    print(section)\n",
    "    for mbid in sections[section]:\n",
    "        print(' ', mbid, ':', sections[section][mbid])"
   ]
  },
  {
   "cell_type": "markdown",
   "metadata": {},
   "source": [
    "To compute the intervals, retrieve all the score sections contained in the dictionary per each mbid in each tempo section. Count them per tempo section."
   ]
  },
  {
   "cell_type": "code",
   "execution_count": 21,
   "metadata": {},
   "outputs": [
    {
     "name": "stdout",
     "output_type": "stream",
     "text": [
      "\n",
      "Working with section mu\n",
      "a451a7fc-c53f-462a-b3fc-4377bb588105.xml loaded\n",
      "8842c1f0-e261-4069-bd59-768bb9a3315c.xml loaded\n",
      "f7bcb9af-6abb-4192-ae3d-37fa811034ce.xml loaded\n",
      "b11237b9-d45b-4b3a-a97b-ab7d198f927f.xml loaded\n",
      "\n",
      "Working with section ma\n",
      "a451a7fc-c53f-462a-b3fc-4377bb588105.xml loaded\n",
      "f7bcb9af-6abb-4192-ae3d-37fa811034ce.xml loaded\n",
      "b11237b9-d45b-4b3a-a97b-ab7d198f927f.xml loaded\n",
      "\n",
      "Working with section in\n",
      "a451a7fc-c53f-462a-b3fc-4377bb588105.xml loaded\n",
      "8842c1f0-e261-4069-bd59-768bb9a3315c.xml loaded\n",
      "f7bcb9af-6abb-4192-ae3d-37fa811034ce.xml loaded\n",
      "b11237b9-d45b-4b3a-a97b-ab7d198f927f.xml loaded\n"
     ]
    }
   ],
   "source": [
    "# General dictionary that will include a key per tempo section\n",
    "intervals = {}\n",
    "\n",
    "for section in sections:\n",
    "    print('\\nWorking with section', section)\n",
    "    intervals[section] = {} # Dictionary of the tempo section\n",
    "    for mbid in sections[section]: # \n",
    "        s = converter.parse(mbid + '.xml')\n",
    "        print(mbid + '.xml loaded')\n",
    "        p = s.parts[0]\n",
    "        nn = p.flat.notesAndRests.stream()\n",
    "        start = float(sections[section][mbid][0])\n",
    "        end = float(sections[section][mbid][1])\n",
    "        sectionNotes = nn.getElementsByOffset(start, end).stream() # All the notes in the current section\n",
    "        for n in sectionNotes[:-1]:\n",
    "            if n.isNote and n.next().isNote:\n",
    "                itv = interval.Interval(n, n.next())\n",
    "                intervals[section][itv.name] = intervals[section].get(itv.name, 0) + 1"
   ]
  },
  {
   "cell_type": "markdown",
   "metadata": {},
   "source": [
    "Plot a figure with an interval histogram per tempo section. Before plotting each histogram, order the intervals according to their semitones size. For better comparison, normalize the y axis values for all histograms and give common x and y axes limits."
   ]
  },
  {
   "cell_type": "code",
   "execution_count": 22,
   "metadata": {},
   "outputs": [
    {
     "data": {
      "image/png": "[encoded data removed]",
      "text/plain": [
       "<Figure size 432x288 with 3 Axes>"
      ]
     },
     "metadata": {
      "image/png": {
       "height": 279,
       "width": 429
      },
      "needs_background": "light"
     },
     "output_type": "display_data"
    }
   ],
   "source": [
    "plt.figure()\n",
    "\n",
    "sectionsOrder = ['mu', 'ma', 'in']\n",
    "for s in sectionsOrder:\n",
    "    sectionDic = intervals[s]\n",
    "    # Order the intervals\n",
    "    # Create a dictionary with the equivalence of each interval's size in semitones and its name.\n",
    "    intervalsOrder = {}\n",
    "    for k in sectionDic.keys():\n",
    "        itv = interval.Interval(k)\n",
    "        intervalsOrder[itv.semitones] = k\n",
    "    # Ordered list of intervals by semitones size\n",
    "    xValues = sorted(intervalsOrder.keys())\n",
    "    # Oredred list of interval names by their semitiones size to be use as ticks for the x axis.\n",
    "    xTicks = [intervalsOrder[i] for i in xValues]\n",
    "    # Ordered list of y axis values\n",
    "    yValues = np.array([sectionDic[i] for i in xTicks])\n",
    "    # Normalize yValues for better comparison\n",
    "    yValues = yValues / sum(yValues)\n",
    "    \n",
    "    # Create the subplot\n",
    "    plt.subplot(311 + sectionsOrder.index(s) )\n",
    "    plt.bar(xValues, yValues)\n",
    "    plt.xticks(xValues, xTicks)\n",
    "    # Common x and y axes limits\n",
    "    plt.xlim(-1, 13)\n",
    "    plt.ylim(0, 0.5)\n",
    "    plt.title(s)\n",
    "\n",
    "plt.tight_layout()\n",
    "plt.show()"
   ]
  },
  {
   "cell_type": "code",
   "execution_count": null,
   "metadata": {},
   "outputs": [],
   "source": []
  }
 ],
 "metadata": {
  "kernelspec": {
   "display_name": "Python 3",
   "language": "python",
   "name": "python3"
  },
  "language_info": {
   "codemirror_mode": {
    "name": "ipython",
    "version": 3
   },
   "file_extension": ".py",
   "mimetype": "text/x-python",
   "name": "python",
   "nbconvert_exporter": "python",
   "pygments_lexer": "ipython3",
   "version": "3.6.7"
  }
 },
 "nbformat": 4,
 "nbformat_minor": 2
}
